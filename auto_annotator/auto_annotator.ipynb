{
 "cells": [
  {
   "cell_type": "code",
   "execution_count": null,
   "metadata": {},
   "outputs": [],
   "source": [
    "from tflite_support.task import core\n",
    "from tflite_support.task import processor\n",
    "from tflite_support.task import vision\n",
    "import pandas as pd\n",
    "import shutil \n",
    "import cv2\n",
    "import os\n",
    "import duckdb\n",
    "import sqlalchemy\n",
    "import random\n",
    "import xml.etree.ElementTree as ET\n",
    "from xml.dom import minidom\n",
    "%load_ext sql\n",
    "\n",
    "%config SqlMagic.autopandas = True\n",
    "%config SqlMagic.feedback = False\n",
    "%config SqlMagic.displaycon = False\n",
    "%sql duckdb:///:memory:"
   ]
  },
  {
   "cell_type": "code",
   "execution_count": null,
   "metadata": {},
   "outputs": [],
   "source": [
    "## change the model path to attached model file\n",
    "MODEL_PATH = \"/home/abdullah/personal/github_projects/sm_city/result_renerator/model_arch_4.tflite\"\n",
    "## Change the path to dataset folder \n",
    "base_images = '/home/abdullah/personal/github_projects/efficientnet_lite_preprocess/dataset/images/'\n",
    "## change the path to where you want to save the annotated images\n",
    "annotated_images = '/home/abdullah/personal/github_projects/sm_city/auto_annotator/annotated_images/'\n",
    "## change the path to where you want to save the annotations\n",
    "annotations_folder = '/home/abdullah/personal/github_projects/sm_city/auto_annotator/annotations/'\n",
    "if os.path.exists(annotated_images):\n",
    "    shutil.rmtree(annotated_images)\n",
    "    shutil.rmtree(annotations_folder)\n",
    "    \n",
    "os.makedirs(annotated_images)\n",
    "os.makedirs(annotations_folder)\n",
    "\n",
    "\n"
   ]
  },
  {
   "cell_type": "code",
   "execution_count": null,
   "metadata": {},
   "outputs": [],
   "source": [
    "images = shutil.os.listdir(base_images)\n",
    "images = random.sample(images, 200) # random sample (for testing)\n",
    "images = [base_images + image for image in images] \n"
   ]
  },
  {
   "cell_type": "code",
   "execution_count": null,
   "metadata": {},
   "outputs": [],
   "source": [
    "base_options = core.BaseOptions(\n",
    "      file_name=MODEL_PATH, use_coral=False, num_threads=4)\n",
    "detection_options = processor.DetectionOptions(\n",
    "      max_results=3, score_threshold=.6)   \n",
    "options = vision.ObjectDetectorOptions(\n",
    "      base_options=base_options, detection_options=detection_options)  \n",
    "detector = vision.ObjectDetector.create_from_options(options)"
   ]
  },
  {
   "cell_type": "code",
   "execution_count": null,
   "metadata": {},
   "outputs": [],
   "source": [
    "# Function for inference \n",
    "def inference(image_array):\n",
    "    input_tensor = vision.TensorImage.create_from_array(image_array)\n",
    "    results = detector.detect(input_tensor)\n",
    "    return results.detections"
   ]
  },
  {
   "cell_type": "code",
   "execution_count": null,
   "metadata": {},
   "outputs": [],
   "source": [
    "results = []\n",
    "for image_path in images:\n",
    "    image = cv2.imread(image_path)\n",
    "    detections = inference(image)\n",
    "    if detections:\n",
    "        image_width = image.shape[1]\n",
    "        image_height = image.shape[0]\n",
    "        for detection in detections:\n",
    "            result = {}\n",
    "            result['image_path'] = image_path\n",
    "            result['height'] = image_height\n",
    "            result['width'] = image_width\n",
    "            result['detection'] = detection\n",
    "            results.append(result)   \n",
    "    "
   ]
  },
  {
   "cell_type": "code",
   "execution_count": null,
   "metadata": {},
   "outputs": [],
   "source": [
    "results"
   ]
  },
  {
   "cell_type": "code",
   "execution_count": null,
   "metadata": {},
   "outputs": [],
   "source": [
    "def result_to_bascal_voc(results):\n",
    "    for result in results:\n",
    "        image_path = result['image_path']\n",
    "        shutil.copy(image_path, annotated_images)\n",
    "        image_name = image_path.split('/')[-1]\n",
    "        image_name = image_name.split('.')[0]\n",
    "        image_width = result['width']\n",
    "        image_height = result['height']\n",
    "        detection = result['detection']\n",
    "        bounding_box = detection.bounding_box\n",
    "        categories = detection.categories\n",
    "        for category in categories:\n",
    "            category_name = category.category_name\n",
    "            category_score = category.score\n",
    "            xmin = bounding_box.origin_x\n",
    "            ymin = bounding_box.origin_y\n",
    "            xmax = bounding_box.origin_x + bounding_box.width\n",
    "            ymax = bounding_box.origin_y + bounding_box.height\n",
    "\n",
    "\n",
    "            xml = ET.Element('annotation')\n",
    "            ET.SubElement(xml, 'folder').text = 'images'\n",
    "            ET.SubElement(xml, 'filename').text = image_name\n",
    "            ET.SubElement(xml, 'path').text = image_path\n",
    "            source = ET.SubElement(xml, 'source')\n",
    "            ET.SubElement(source, 'database').text = 'Unknown'\n",
    "            size = ET.SubElement(xml, 'size')\n",
    "            ET.SubElement(size, 'width').text = str(image_width)\n",
    "            ET.SubElement(size, 'height').text = str(image_height)\n",
    "            ET.SubElement(size, 'depth').text = '3'\n",
    "            ET.SubElement(xml, 'segmented').text = '0'\n",
    "            object = ET.SubElement(xml, 'object')\n",
    "            ET.SubElement(object, 'name').text = category_name\n",
    "            ET.SubElement(object, 'pose').text = 'Unspecified'\n",
    "            ET.SubElement(object, 'truncated').text = '0'\n",
    "            ET.SubElement(object, 'difficult').text = '0'\n",
    "            bndbox = ET.SubElement(object, 'bndbox')\n",
    "            ET.SubElement(bndbox, 'xmin').text = str(xmin)\n",
    "            ET.SubElement(bndbox, 'ymin').text = str(ymin)\n",
    "            ET.SubElement(bndbox, 'xmax').text = str(xmax)\n",
    "            ET.SubElement(bndbox, 'ymax').text = str(ymax)\n",
    "            xmlstr = minidom.parseString(ET.tostring(xml)).toprettyxml(indent=\"   \")\n",
    "            \n",
    "            with open(f'{annotations_folder}{image_name}.xml', \"w\") as f:\n",
    "                f.write(xmlstr)"
   ]
  },
  {
   "cell_type": "code",
   "execution_count": null,
   "metadata": {},
   "outputs": [],
   "source": [
    "# this function will write the annotations in the annotations folder and copy the images in the annotated_images folder\n",
    "\n",
    "result_to_bascal_voc(results)"
   ]
  },
  {
   "cell_type": "code",
   "execution_count": null,
   "metadata": {},
   "outputs": [],
   "source": []
  }
 ],
 "metadata": {
  "kernelspec": {
   "display_name": "result",
   "language": "python",
   "name": "python3"
  },
  "language_info": {
   "codemirror_mode": {
    "name": "ipython",
    "version": 3
   },
   "file_extension": ".py",
   "mimetype": "text/x-python",
   "name": "python",
   "nbconvert_exporter": "python",
   "pygments_lexer": "ipython3",
   "version": "3.9.16"
  },
  "orig_nbformat": 4,
  "vscode": {
   "interpreter": {
    "hash": "b6cd1d8fde81e82ee0bb98e61354bbb476ce8357296d0ca5bf6d59e75067f659"
   }
  }
 },
 "nbformat": 4,
 "nbformat_minor": 2
}
