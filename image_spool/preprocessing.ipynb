{
 "cells": [
  {
   "cell_type": "code",
   "execution_count": 40,
   "metadata": {},
   "outputs": [],
   "source": [
    "import glob"
   ]
  },
  {
   "cell_type": "code",
   "execution_count": 61,
   "metadata": {},
   "outputs": [
    {
     "name": "stdout",
     "output_type": "stream",
     "text": [
      "0\n"
     ]
    }
   ],
   "source": [
    "train_images = glob.glob('dataset/train/Images/*.jpg')\n",
    "train_annotations = glob.glob('dataset/train/Annotations/*.xml')\n",
    "assert len(train_images) == len(train_annotations), \"Annotations not much images\"\n",
    "train_images = [x.split('/')[-1].split('.')[0] for x in train_images]\n",
    "train_annotations = [x.split('/')[-1].split('.')[0] for x in train_annotations]\n",
    "assert set(train_images) == set(train_annotations), \"Annotations not much images\"\n",
    "# find the images that are not annotated\n",
    "train_images = set(train_images)\n",
    "train_annotations = set(train_annotations)\n",
    "train_images = list(train_images - train_annotations)\n",
    "print(len(train_images))\n"
   ]
  },
  {
   "cell_type": "code",
   "execution_count": 60,
   "metadata": {},
   "outputs": [
    {
     "name": "stdout",
     "output_type": "stream",
     "text": [
      "0\n"
     ]
    }
   ],
   "source": [
    "test_images = glob.glob('dataset/test/Images/*.jpg')\n",
    "test_annotations = glob.glob('dataset/test/Annotations/*.xml')\n",
    "assert len(test_images) == len(test_annotations), \"Annotations not much images\"\n",
    "test_images = [x.split('/')[-1].split('.')[0] for x in test_images]\n",
    "test_annotations = [x.split('/')[-1].split('.')[0] for x in test_annotations]\n",
    "assert set(test_images) == set(test_annotations), \"Annotations not much images\"\n",
    "# find the images that are not annotated\n",
    "test_images = set(test_images)\n",
    "test_annotations = set(test_annotations)\n",
    "test_images = list(test_images - test_annotations)\n",
    "print(len(test_images))"
   ]
  },
  {
   "cell_type": "code",
   "execution_count": null,
   "metadata": {},
   "outputs": [],
   "source": []
  }
 ],
 "metadata": {
  "kernelspec": {
   "display_name": "data",
   "language": "python",
   "name": "python3"
  },
  "language_info": {
   "codemirror_mode": {
    "name": "ipython",
    "version": 3
   },
   "file_extension": ".py",
   "mimetype": "text/x-python",
   "name": "python",
   "nbconvert_exporter": "python",
   "pygments_lexer": "ipython3",
   "version": "3.9.15 (main, Nov 24 2022, 14:31:59) \n[GCC 11.2.0]"
  },
  "orig_nbformat": 4,
  "vscode": {
   "interpreter": {
    "hash": "7b316294c2fa9013f6cc174ceceb655ab2399793e0d44c4162e6790cfa9dcaaf"
   }
  }
 },
 "nbformat": 4,
 "nbformat_minor": 2
}
