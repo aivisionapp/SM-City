{
 "cells": [
  {
   "cell_type": "code",
   "execution_count": 1,
   "metadata": {},
   "outputs": [],
   "source": [
    "import csv\n",
    "import xml.etree.ElementTree as ET\n",
    "from xml.dom import minidom\n",
    "import shutil\n",
    "from PIL import Image\n",
    "import cv2\n",
    "import os\n",
    "import random\n",
    "import duckdb \n",
    "import pandas as pd\n",
    "import sqlalchemy\n",
    "%load_ext sql \n",
    "%config SqlMagic.autopandas = True\n",
    "%config SqlMagic.feedback = False\n",
    "%config SqlMagic.displaycon = False\n"
   ]
  },
  {
   "cell_type": "code",
   "execution_count": 2,
   "metadata": {
    "vscode": {
     "languageId": "sql"
    }
   },
   "outputs": [],
   "source": [
    "%sql duckdb:///:memory:"
   ]
  },
  {
   "cell_type": "code",
   "execution_count": 3,
   "metadata": {
    "vscode": {
     "languageId": "sql"
    }
   },
   "outputs": [
    {
     "data": {
      "text/html": [
       "<div>\n",
       "<style scoped>\n",
       "    .dataframe tbody tr th:only-of-type {\n",
       "        vertical-align: middle;\n",
       "    }\n",
       "\n",
       "    .dataframe tbody tr th {\n",
       "        vertical-align: top;\n",
       "    }\n",
       "\n",
       "    .dataframe thead th {\n",
       "        text-align: right;\n",
       "    }\n",
       "</style>\n",
       "<table border=\"1\" class=\"dataframe\">\n",
       "  <thead>\n",
       "    <tr style=\"text-align: right;\">\n",
       "      <th></th>\n",
       "      <th>Count</th>\n",
       "    </tr>\n",
       "  </thead>\n",
       "  <tbody>\n",
       "    <tr>\n",
       "      <th>0</th>\n",
       "      <td>19950</td>\n",
       "    </tr>\n",
       "  </tbody>\n",
       "</table>\n",
       "</div>"
      ],
      "text/plain": [
       "   Count\n",
       "0  19950"
      ]
     },
     "execution_count": 3,
     "metadata": {},
     "output_type": "execute_result"
    }
   ],
   "source": [
    "%sql create table train as select image_path,name,xmax,xmin,ymax,ymin from train.csv"
   ]
  },
  {
   "cell_type": "code",
   "execution_count": 7,
   "metadata": {
    "vscode": {
     "languageId": "sql"
    }
   },
   "outputs": [
    {
     "data": {
      "text/html": [
       "<div>\n",
       "<style scoped>\n",
       "    .dataframe tbody tr th:only-of-type {\n",
       "        vertical-align: middle;\n",
       "    }\n",
       "\n",
       "    .dataframe tbody tr th {\n",
       "        vertical-align: top;\n",
       "    }\n",
       "\n",
       "    .dataframe thead th {\n",
       "        text-align: right;\n",
       "    }\n",
       "</style>\n",
       "<table border=\"1\" class=\"dataframe\">\n",
       "  <thead>\n",
       "    <tr style=\"text-align: right;\">\n",
       "      <th></th>\n",
       "      <th>name</th>\n",
       "      <th>count_star()</th>\n",
       "    </tr>\n",
       "  </thead>\n",
       "  <tbody>\n",
       "    <tr>\n",
       "      <th>0</th>\n",
       "      <td>GARBAGE</td>\n",
       "      <td>8597</td>\n",
       "    </tr>\n",
       "    <tr>\n",
       "      <th>1</th>\n",
       "      <td>BAD_BILLBOARD</td>\n",
       "      <td>1555</td>\n",
       "    </tr>\n",
       "    <tr>\n",
       "      <th>2</th>\n",
       "      <td>SAND_ON_ROAD</td>\n",
       "      <td>748</td>\n",
       "    </tr>\n",
       "    <tr>\n",
       "      <th>3</th>\n",
       "      <td>GRAFFITI</td>\n",
       "      <td>1124</td>\n",
       "    </tr>\n",
       "    <tr>\n",
       "      <th>4</th>\n",
       "      <td>POTHOLES</td>\n",
       "      <td>2625</td>\n",
       "    </tr>\n",
       "    <tr>\n",
       "      <th>5</th>\n",
       "      <td>CLUTTER_SIDEWALK</td>\n",
       "      <td>2253</td>\n",
       "    </tr>\n",
       "    <tr>\n",
       "      <th>6</th>\n",
       "      <td>CONSTRUCTION_ROAD</td>\n",
       "      <td>2730</td>\n",
       "    </tr>\n",
       "    <tr>\n",
       "      <th>7</th>\n",
       "      <td>BROKEN_SIGNAGE</td>\n",
       "      <td>83</td>\n",
       "    </tr>\n",
       "    <tr>\n",
       "      <th>8</th>\n",
       "      <td>UNKEPT_FACADE</td>\n",
       "      <td>127</td>\n",
       "    </tr>\n",
       "    <tr>\n",
       "      <th>9</th>\n",
       "      <td>FADED_SIGNAGE</td>\n",
       "      <td>107</td>\n",
       "    </tr>\n",
       "    <tr>\n",
       "      <th>10</th>\n",
       "      <td>BAD_STREETLIGHT</td>\n",
       "      <td>1</td>\n",
       "    </tr>\n",
       "  </tbody>\n",
       "</table>\n",
       "</div>"
      ],
      "text/plain": [
       "                 name  count_star()\n",
       "0             GARBAGE          8597\n",
       "1       BAD_BILLBOARD          1555\n",
       "2        SAND_ON_ROAD           748\n",
       "3            GRAFFITI          1124\n",
       "4            POTHOLES          2625\n",
       "5    CLUTTER_SIDEWALK          2253\n",
       "6   CONSTRUCTION_ROAD          2730\n",
       "7      BROKEN_SIGNAGE            83\n",
       "8       UNKEPT_FACADE           127\n",
       "9       FADED_SIGNAGE           107\n",
       "10    BAD_STREETLIGHT             1"
      ]
     },
     "execution_count": 7,
     "metadata": {},
     "output_type": "execute_result"
    }
   ],
   "source": [
    "%sql select name , count(*) from train group by 1 "
   ]
  },
  {
   "cell_type": "code",
   "execution_count": null,
   "metadata": {},
   "outputs": [],
   "source": [
    "# convert the given train.csv into PASCAL VOC xml file for each image.\n",
    "\n",
    "\n",
    "import csv\n",
    "import xml.etree.ElementTree as ET\n",
    "def csv_to_bacal_voc_xml(csv_file, adjustment_factor):\n",
    "    xml_strings = []\n",
    "    prev_image_path = \"\"\n",
    "    root = ET.Element('annotation')\n",
    "    folder = ET.SubElement(root, 'folder')\n",
    "    folder.text = \"my-project-name\"\n",
    "    with open(csv_file, 'r') as f:\n",
    "        reader = csv.DictReader(f)\n",
    "        for row in reader:\n",
    "            if row['image_path'] != prev_image_path:\n",
    "                xml_strings.append({\"image_path\": prev_image_path, \"xml\": prettify(root)})\n",
    "                root.clear()\n",
    "                folder = ET.SubElement(root, 'folder')\n",
    "                folder.text = \"my-project-name\"\n",
    "                filename = ET.SubElement(root, 'filename')\n",
    "                filename.text = row['image_path']\n",
    "\n",
    "                path = ET.SubElement(root, 'path')\n",
    "                path.text = '/my-project-name/' + row['image_path']\n",
    "\n",
    "                source = ET.SubElement(root, 'source')\n",
    "                database = ET.SubElement(source, 'database')\n",
    "                database.text = 'Unspecified'\n",
    "\n",
    "                size = ET.SubElement(root, 'size')\n",
    "                width = '1920'\n",
    "                height = '1080'\n",
    "                width_tag = ET.SubElement(size, 'width')\n",
    "                width_tag.text = width\n",
    "                height_tag = ET.SubElement(size, 'height')\n",
    "                height_tag.text = height\n",
    "                depth = ET.SubElement(size, 'depth')\n",
    "                depth.text = '3'\n",
    "                prev_image_path = row['image_path']\n",
    "            obj = ET.SubElement(root, 'object')\n",
    "            ET.SubElement(obj, 'name').text = row['name']\n",
    "            ET.SubElement(obj, 'pose').text = 'Unspecified'\n",
    "            ET.SubElement(obj, 'truncated').text = '0'\n",
    "            ET.SubElement(obj, 'difficult').text = '0'\n",
    "            bndbox = ET.SubElement(obj, 'bndbox')\n",
    "            ET.SubElement(bndbox, 'xmin').text = str(int(float(row['xmin']) * adjustment_factor))\n",
    "            ET.SubElement(bndbox, 'ymin').text = str(int(float(row['ymin']) * adjustment_factor))\n",
    "            ET.SubElement(bndbox, 'xmax').text = str(int(float(row['xmax']) * adjustment_factor))\n",
    "            ET.SubElement(bndbox, 'ymax').text = str(int(float(row['ymax']) * adjustment_factor))\n",
    "    xml_strings.append({\"image_path\": prev_image_path, \"xml\": prettify(root)})\n",
    "    return xml_strings\n",
    "\n",
    "\n",
    "def prettify(elem):\n",
    "    \"\"\"Return a pretty-printed XML string for the Element.\n",
    "    \"\"\"\n",
    "    rough_string = ET.tostring(elem, 'utf-8')\n",
    "    reparsed = minidom.parseString(rough_string)\n",
    "    return reparsed.toprettyxml(indent=\"  \")\n",
    "\n"
   ]
  },
  {
   "cell_type": "code",
   "execution_count": null,
   "metadata": {},
   "outputs": [],
   "source": [
    "train_csv = 'train.csv'"
   ]
  },
  {
   "cell_type": "code",
   "execution_count": null,
   "metadata": {},
   "outputs": [],
   "source": [
    "# converted xml_files\n",
    "xml_files = csv_to_bacal_voc_xml(train_csv, 2)\n"
   ]
  },
  {
   "cell_type": "code",
   "execution_count": null,
   "metadata": {},
   "outputs": [],
   "source": [
    "import os\n",
    "def save_xml_files(xml_list,directory):\n",
    "    if not os.path.exists(directory):\n",
    "        os.makedirs(directory)\n",
    "    for item in xml_list:\n",
    "        if item[\"image_path\"] != \"\":\n",
    "            file_name, file_extension = os.path.splitext(item[\"image_path\"])\n",
    "            new_file_name = file_name + \".xml\"\n",
    "            path=os.path.join(directory,new_file_name)\n",
    "            with open(path, \"w\") as f:\n",
    "                f.write(item[\"xml\"])"
   ]
  },
  {
   "cell_type": "code",
   "execution_count": null,
   "metadata": {},
   "outputs": [],
   "source": [
    "\n",
    "\n",
    "annotations_train_path = \"image_spool/preprocessing/dataset/train/Annotations\"\n",
    "if os.path.exists(annotations_train_path):\n",
    "    shutil.rmtree(annotations_train_path)\n"
   ]
  },
  {
   "cell_type": "code",
   "execution_count": null,
   "metadata": {},
   "outputs": [],
   "source": [
    "# save annotations to Annotations folder.\n",
    "save_xml_files(xml_files,annotations_train_path)"
   ]
  },
  {
   "cell_type": "code",
   "execution_count": null,
   "metadata": {},
   "outputs": [],
   "source": [
    "def copy_images(xml_list,src_dir,dst_dir):\n",
    "    if not os.path.exists(dst_dir):\n",
    "        os.makedirs(dst_dir)\n",
    "    for item in xml_list:\n",
    "        if item[\"image_path\"] != \"\":\n",
    "            src_path=os.path.join(src_dir,item[\"image_path\"])\n",
    "            dst_path=os.path.join(dst_dir,item[\"image_path\"])\n",
    "            shutil.copy2(src_path,dst_path)\n"
   ]
  },
  {
   "cell_type": "code",
   "execution_count": null,
   "metadata": {},
   "outputs": [],
   "source": [
    "\n",
    "images_train_path = \"image_spool/preprocessing/dataset/train/Images\"\n",
    "if os.path.exists(images_train_path):\n",
    "    shutil.rmtree(images_train_path)\n"
   ]
  },
  {
   "cell_type": "code",
   "execution_count": null,
   "metadata": {},
   "outputs": [],
   "source": [
    "# copy images from raw dataset to Images folder.\n",
    "base_image_path = 'image_spool/preprocessing/raw_dataset'\n",
    "copy_images(xml_files,base_image_path,images_train_path)"
   ]
  },
  {
   "cell_type": "code",
   "execution_count": null,
   "metadata": {},
   "outputs": [],
   "source": [
    "# test dataset path\n",
    "test_images_path = \"image_spool/preprocessing/dataset/test/Images\"\n",
    "test_annotation_path = \"image_spool/preprocessing/dataset/test/Annotations\"\n",
    "\n"
   ]
  },
  {
   "cell_type": "code",
   "execution_count": null,
   "metadata": {},
   "outputs": [],
   "source": [
    "# list dir of images_train_path \n",
    "image_train_base = os.listdir(images_train_path)\n",
    "annotation_train_base = os.listdir(annotations_train_path)\n",
    "print('Train images: ',len(image_train_base))\n",
    "print('Train annotations: ',len(annotation_train_base))"
   ]
  },
  {
   "cell_type": "code",
   "execution_count": null,
   "metadata": {},
   "outputs": [],
   "source": [
    "random.shuffle(image_train_base)"
   ]
  },
  {
   "cell_type": "code",
   "execution_count": null,
   "metadata": {},
   "outputs": [],
   "source": [
    "images_20_percent = image_train_base[:int(len(image_train_base)*0.2)]"
   ]
  },
  {
   "cell_type": "code",
   "execution_count": null,
   "metadata": {},
   "outputs": [],
   "source": [
    "\n",
    "if not os.path.exists(test_images_path):\n",
    "         os.makedirs(test_images_path)\n",
    "   \n",
    "if not os.path.exists(test_annotation_path):\n",
    "         os.makedirs(test_annotation_path)"
   ]
  },
  {
   "cell_type": "code",
   "execution_count": null,
   "metadata": {},
   "outputs": [],
   "source": [
    "# copy images to test_images_path\n",
    "for image in images_20_percent:\n",
    "\n",
    "    \n",
    "    src_path=os.path.join(images_train_path,image)\n",
    "    if os.path.exists(src_path):\n",
    "       print(image)\n",
    "       img_file_name, img_file_extension = os.path.splitext(image)\n",
    "       new_file_name = img_file_name + img_file_extension\n",
    "       shutil.copy2(src_path,test_images_path + new_file_name)\n",
    "       # remove image from train\n",
    "       os.remove(src_path)\n",
    "\n",
    "       # copy annotations to test_annotation_path\n",
    "       file_name, file_extension = os.path.splitext(image)\n",
    "       new_file_name = file_name + \".xml\"\n",
    "       src_path=os.path.join(annotations_train_path,new_file_name)\n",
    "       if os.path.exists(src_path):\n",
    "              print(new_file_name)\n",
    "              shutil.copy2(src_path,test_annotation_path + new_file_name)\n",
    "                # remove annotation from train\n",
    "              os.remove(src_path)\n",
    "    "
   ]
  },
  {
   "cell_type": "code",
   "execution_count": null,
   "metadata": {},
   "outputs": [],
   "source": []
  }
 ],
 "metadata": {
  "kernelspec": {
   "display_name": "od",
   "language": "python",
   "name": "python3"
  },
  "language_info": {
   "codemirror_mode": {
    "name": "ipython",
    "version": 3
   },
   "file_extension": ".py",
   "mimetype": "text/x-python",
   "name": "python",
   "nbconvert_exporter": "python",
   "pygments_lexer": "ipython3",
   "version": "3.9.15 (main, Nov 24 2022, 14:31:59) \n[GCC 11.2.0]"
  },
  "orig_nbformat": 4,
  "vscode": {
   "interpreter": {
    "hash": "7320a50856f61d90c808951f32fac9d7ab4b52c0b29b6a2990a335d10e2d2e40"
   }
  }
 },
 "nbformat": 4,
 "nbformat_minor": 2
}
