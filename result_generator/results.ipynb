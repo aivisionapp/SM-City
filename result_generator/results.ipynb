{
 "cells": [
  {
   "cell_type": "code",
   "execution_count": 2,
   "metadata": {},
   "outputs": [],
   "source": [
    "from tflite_support.task import core\n",
    "from tflite_support.task import processor\n",
    "from tflite_support.task import vision\n",
    "import pandas as pd\n",
    "import shutil \n",
    "import cv2\n",
    "import os\n",
    "import duckdb\n",
    "import sqlalchemy\n",
    "import random\n",
    "%load_ext sql\n",
    "\n",
    "%config SqlMagic.autopandas = True\n",
    "%config SqlMagic.feedback = False\n",
    "%config SqlMagic.displaycon = False\n",
    "%sql duckdb:///:memory:\n"
   ]
  },
  {
   "attachments": {},
   "cell_type": "markdown",
   "metadata": {},
   "source": [
    "#### inital variables for model name and visualisation"
   ]
  },
  {
   "cell_type": "code",
   "execution_count": 3,
   "metadata": {},
   "outputs": [],
   "source": [
    "\n",
    "MODEL_PATH = \"/home/abdullah/personal/github_projects/sm_city/result_renerator/model_arch_4.tflite\"\n",
    "\n",
    "_MARGIN = 10  \n",
    "_ROW_SIZE = 10 \n",
    "_FONT_SIZE = 1\n",
    "_FONT_THICKNESS = 1\n",
    "_TEXT_COLOR = (0, 255, 0)"
   ]
  },
  {
   "cell_type": "code",
   "execution_count": 4,
   "metadata": {},
   "outputs": [
    {
     "name": "stderr",
     "output_type": "stream",
     "text": [
      "INFO: Created TensorFlow Lite XNNPACK delegate for CPU.\n"
     ]
    }
   ],
   "source": [
    "base_options = core.BaseOptions(\n",
    "      file_name=MODEL_PATH, use_coral=False, num_threads=4)\n",
    "detection_options = processor.DetectionOptions(\n",
    "      max_results=3, score_threshold=.4)   \n",
    "options = vision.ObjectDetectorOptions(\n",
    "      base_options=base_options, detection_options=detection_options)  \n",
    "detector = vision.ObjectDetector.create_from_options(options)"
   ]
  },
  {
   "attachments": {},
   "cell_type": "markdown",
   "metadata": {},
   "source": [
    "### Move test images from dataset/images to test_images , delete existing test_images folder if exists"
   ]
  },
  {
   "cell_type": "code",
   "execution_count": null,
   "metadata": {},
   "outputs": [],
   "source": [
    "\n",
    "image_names = pd.read_csv('/home/abdullah/personal/github_projects/efficientnet_lite_preprocess/dataset/test.csv')\n",
    "image_names = image_names['image_path'].values\n",
    "base_images = '/home/abdullah/personal/github_projects/efficientnet_lite_preprocess/dataset/images/'\n",
    "image_names = [os.path.join(base_images, image_name) for image_name in image_names]\n",
    "test_images_path = '/home/abdullah/personal/github_projects/efficientnet_lite_preprocess/result_renerator/test_images/'\n",
    "if os.path.exists(test_images_path):\n",
    "    shutil.rmtree(test_images_path)\n",
    "\n",
    "os.makedirs(test_images_path)\n",
    "\n",
    "for image_name in image_names:\n",
    "    shutil.copy(image_name, test_images_path)"
   ]
  },
  {
   "attachments": {},
   "cell_type": "markdown",
   "metadata": {},
   "source": [
    "### List of all images in test_images folder "
   ]
  },
  {
   "cell_type": "code",
   "execution_count": null,
   "metadata": {},
   "outputs": [],
   "source": [
    "list_dist_dir = os.listdir(test_images_path)\n",
    "list_dist_dir = [os.path.join(test_images_path, image_name) for image_name in list_dist_dir]\n"
   ]
  },
  {
   "attachments": {},
   "cell_type": "markdown",
   "metadata": {},
   "source": [
    "### Function for inference on test images"
   ]
  },
  {
   "cell_type": "code",
   "execution_count": null,
   "metadata": {},
   "outputs": [],
   "source": [
    "def inference(image_array):\n",
    "    input_tensor = vision.TensorImage.create_from_array(image_array)\n",
    "    results = detector.detect(input_tensor)\n",
    "    return results"
   ]
  },
  {
   "attachments": {},
   "cell_type": "markdown",
   "metadata": {},
   "source": [
    "#### distrubution of images vs classes"
   ]
  },
  {
   "cell_type": "code",
   "execution_count": null,
   "metadata": {},
   "outputs": [],
   "source": [
    "%%sql \n",
    "select class , name , count(*) as total from '/home/abdullah/personal/github_projects/efficientnet_lite_preprocess/dataset/train.csv' \n",
    "group by class , name"
   ]
  },
  {
   "attachments": {},
   "cell_type": "markdown",
   "metadata": {},
   "source": [
    "#### class mapping"
   ]
  },
  {
   "cell_type": "code",
   "execution_count": null,
   "metadata": {},
   "outputs": [],
   "source": [
    "class_map = {\n",
    "    0: 'GRAFFITI',\n",
    "    1: 'FADED_SIGNAGE',\n",
    "    2: 'POTHOLES',\n",
    "    3: 'GARBAGE',\n",
    "    4: 'CONSTRUCTION_ROAD',\n",
    "    5: 'BROKEN_SIGNAGE',\n",
    "    6: 'BAD_STREETLIGHT',\n",
    "    7: 'BAD_BILLBOARD',\n",
    "    8: 'SAND_ON_ROAD',\n",
    "    9: 'CLUTTER_SIDEWALK',\n",
    "    10: 'UNKEPT_FACADE' \n",
    "}"
   ]
  },
  {
   "attachments": {},
   "cell_type": "markdown",
   "metadata": {},
   "source": [
    "#### Create a dataframe with columns as required by the submission format"
   ]
  },
  {
   "cell_type": "code",
   "execution_count": null,
   "metadata": {},
   "outputs": [],
   "source": [
    "base_df = pd.DataFrame(columns=['class', 'image_path', 'name', 'xmax', 'xmin', 'ymax', 'ymin'])\n",
    "\n",
    "def write_result(image, detection_result,image_name):\n",
    "    global base_df\n",
    "    if not detection_result.detections:\n",
    "        base_df = base_df.append({'class': None,\n",
    "                       'image_path': image_name,\n",
    "                       'name': None,\n",
    "                       'xmax': None,\n",
    "                       'xmin': None,\n",
    "                       'ymax': None,\n",
    "                       'ymin': None}, ignore_index=True)\n",
    "        return image\n",
    "\n",
    "\n",
    "    for detection in detection_result.detections:\n",
    "        bbox = detection.bounding_box\n",
    "        start_point = bbox.origin_x, bbox.origin_y\n",
    "        end_point = bbox.origin_x + bbox.width, bbox.origin_y + bbox.height\n",
    "        cv2.rectangle(image, start_point, end_point, _TEXT_COLOR, 3)\n",
    "        category = detection.categories[0]\n",
    "        category_name = category.category_name\n",
    "        probability = round(category.score, 2)\n",
    "        result_text = category_name + ' (' + str(probability) + ')'\n",
    "        text_location = (_MARGIN + bbox.origin_x,\n",
    "                         _MARGIN + _ROW_SIZE + bbox.origin_y)\n",
    "        cv2.putText(image, result_text, text_location, cv2.FONT_HERSHEY_PLAIN,\n",
    "                    _FONT_SIZE, _TEXT_COLOR, _FONT_THICKNESS)\n",
    "        print(category_name, probability)\n",
    "        \n",
    "        class_id = list(class_map.keys())[list(class_map.values()).index(category_name)]\n",
    "\n",
    "        \n",
    "        \n",
    "        base_df = base_df.append({'class': class_id,\n",
    "                       'image_path': image_name,\n",
    "                       'name': category_name,\n",
    "                       'xmax': bbox.origin_x + bbox.width,\n",
    "                       'xmin': bbox.origin_x,\n",
    "                       'ymax': bbox.origin_y + bbox.height,\n",
    "                       'ymin': bbox.origin_y}, ignore_index=True)\n",
    "    return image\n"
   ]
  },
  {
   "cell_type": "markdown",
   "metadata": {},
   "source": [
    "#### Optional save images with drawn bounding boxes"
   ]
  },
  {
   "cell_type": "code",
   "execution_count": null,
   "metadata": {},
   "outputs": [],
   "source": [
    "result_image_path = '/home/abdullah/personal/github_projects/efficientnet_lite_preprocess/result_renerator/result_images/'"
   ]
  },
  {
   "cell_type": "code",
   "execution_count": null,
   "metadata": {},
   "outputs": [],
   "source": [
    "# for testing \n",
    "# random_img_list = random.sample(list_dist_dir, 10)"
   ]
  },
  {
   "cell_type": "code",
   "execution_count": null,
   "metadata": {},
   "outputs": [],
   "source": [
    "for image_path in list_dist_dir:\n",
    "    image = cv2.imread(image_path)\n",
    "    results = inference(image)\n",
    "    image_name = os.path.basename(image_path)\n",
    "    image = write_result(image, results, image_name)\n",
    "    # save image with drawed boxes\n",
    "    \n",
    "\n"
   ]
  },
  {
   "cell_type": "code",
   "execution_count": 18,
   "metadata": {},
   "outputs": [],
   "source": [
    "base_df.to_csv('result.csv', index=False)\n",
    "\n"
   ]
  },
  {
   "cell_type": "code",
   "execution_count": 24,
   "metadata": {
    "vscode": {
     "languageId": "sql"
    }
   },
   "outputs": [
    {
     "data": {
      "text/html": [
       "<div>\n",
       "<style scoped>\n",
       "    .dataframe tbody tr th:only-of-type {\n",
       "        vertical-align: middle;\n",
       "    }\n",
       "\n",
       "    .dataframe tbody tr th {\n",
       "        vertical-align: top;\n",
       "    }\n",
       "\n",
       "    .dataframe thead th {\n",
       "        text-align: right;\n",
       "    }\n",
       "</style>\n",
       "<table border=\"1\" class=\"dataframe\">\n",
       "  <thead>\n",
       "    <tr style=\"text-align: right;\">\n",
       "      <th></th>\n",
       "      <th>Count</th>\n",
       "    </tr>\n",
       "  </thead>\n",
       "  <tbody>\n",
       "    <tr>\n",
       "      <th>0</th>\n",
       "      <td>2422</td>\n",
       "    </tr>\n",
       "  </tbody>\n",
       "</table>\n",
       "</div>"
      ],
      "text/plain": [
       "   Count\n",
       "0   2422"
      ]
     },
     "execution_count": 24,
     "metadata": {},
     "output_type": "execute_result"
    }
   ],
   "source": [
    "%%sql \n",
    "-- Not sure why relative path doesn't work\n",
    "-- using absolute path for now\n",
    "create table result_data as select * from '/home/abdullah/personal/github_projects/efficientnet_lite_preprocess/result_renerator/result.csv' ; \n"
   ]
  },
  {
   "cell_type": "code",
   "execution_count": 25,
   "metadata": {
    "vscode": {
     "languageId": "sql"
    }
   },
   "outputs": [
    {
     "data": {
      "text/html": [
       "<div>\n",
       "<style scoped>\n",
       "    .dataframe tbody tr th:only-of-type {\n",
       "        vertical-align: middle;\n",
       "    }\n",
       "\n",
       "    .dataframe tbody tr th {\n",
       "        vertical-align: top;\n",
       "    }\n",
       "\n",
       "    .dataframe thead th {\n",
       "        text-align: right;\n",
       "    }\n",
       "</style>\n",
       "<table border=\"1\" class=\"dataframe\">\n",
       "  <thead>\n",
       "    <tr style=\"text-align: right;\">\n",
       "      <th></th>\n",
       "      <th>count_star()</th>\n",
       "    </tr>\n",
       "  </thead>\n",
       "  <tbody>\n",
       "    <tr>\n",
       "      <th>0</th>\n",
       "      <td>1127</td>\n",
       "    </tr>\n",
       "  </tbody>\n",
       "</table>\n",
       "</div>"
      ],
      "text/plain": [
       "   count_star()\n",
       "0          1127"
      ]
     },
     "execution_count": 25,
     "metadata": {},
     "output_type": "execute_result"
    }
   ],
   "source": [
    "%sql select count(*) from result_data where name not null"
   ]
  },
  {
   "cell_type": "code",
   "execution_count": 32,
   "metadata": {
    "vscode": {
     "languageId": "sql"
    }
   },
   "outputs": [
    {
     "data": {
      "text/html": [
       "<div>\n",
       "<style scoped>\n",
       "    .dataframe tbody tr th:only-of-type {\n",
       "        vertical-align: middle;\n",
       "    }\n",
       "\n",
       "    .dataframe tbody tr th {\n",
       "        vertical-align: top;\n",
       "    }\n",
       "\n",
       "    .dataframe thead th {\n",
       "        text-align: right;\n",
       "    }\n",
       "</style>\n",
       "<table border=\"1\" class=\"dataframe\">\n",
       "  <thead>\n",
       "    <tr style=\"text-align: right;\">\n",
       "      <th></th>\n",
       "      <th>name</th>\n",
       "      <th>detections</th>\n",
       "    </tr>\n",
       "  </thead>\n",
       "  <tbody>\n",
       "    <tr>\n",
       "      <th>0</th>\n",
       "      <td>None</td>\n",
       "      <td>1295</td>\n",
       "    </tr>\n",
       "    <tr>\n",
       "      <th>1</th>\n",
       "      <td>CONSTRUCTION_ROAD</td>\n",
       "      <td>446</td>\n",
       "    </tr>\n",
       "    <tr>\n",
       "      <th>2</th>\n",
       "      <td>GARBAGE</td>\n",
       "      <td>241</td>\n",
       "    </tr>\n",
       "    <tr>\n",
       "      <th>3</th>\n",
       "      <td>POTHOLES</td>\n",
       "      <td>137</td>\n",
       "    </tr>\n",
       "    <tr>\n",
       "      <th>4</th>\n",
       "      <td>BAD_BILLBOARD</td>\n",
       "      <td>103</td>\n",
       "    </tr>\n",
       "    <tr>\n",
       "      <th>5</th>\n",
       "      <td>GRAFFITI</td>\n",
       "      <td>93</td>\n",
       "    </tr>\n",
       "    <tr>\n",
       "      <th>6</th>\n",
       "      <td>SAND_ON_ROAD</td>\n",
       "      <td>52</td>\n",
       "    </tr>\n",
       "    <tr>\n",
       "      <th>7</th>\n",
       "      <td>CLUTTER_SIDEWALK</td>\n",
       "      <td>29</td>\n",
       "    </tr>\n",
       "    <tr>\n",
       "      <th>8</th>\n",
       "      <td>BROKEN_SIGNAGE</td>\n",
       "      <td>18</td>\n",
       "    </tr>\n",
       "    <tr>\n",
       "      <th>9</th>\n",
       "      <td>UNKEPT_FACADE</td>\n",
       "      <td>7</td>\n",
       "    </tr>\n",
       "    <tr>\n",
       "      <th>10</th>\n",
       "      <td>FADED_SIGNAGE</td>\n",
       "      <td>1</td>\n",
       "    </tr>\n",
       "  </tbody>\n",
       "</table>\n",
       "</div>"
      ],
      "text/plain": [
       "                 name  detections\n",
       "0                None        1295\n",
       "1   CONSTRUCTION_ROAD         446\n",
       "2             GARBAGE         241\n",
       "3            POTHOLES         137\n",
       "4       BAD_BILLBOARD         103\n",
       "5            GRAFFITI          93\n",
       "6        SAND_ON_ROAD          52\n",
       "7    CLUTTER_SIDEWALK          29\n",
       "8      BROKEN_SIGNAGE          18\n",
       "9       UNKEPT_FACADE           7\n",
       "10      FADED_SIGNAGE           1"
      ]
     },
     "execution_count": 32,
     "metadata": {},
     "output_type": "execute_result"
    }
   ],
   "source": [
    "%%sql\n",
    "select name , count() as detections\n",
    " from result_data group by name order by count(*) desc"
   ]
  },
  {
   "cell_type": "code",
   "execution_count": null,
   "metadata": {
    "vscode": {
     "languageId": "sql"
    }
   },
   "outputs": [],
   "source": []
  }
 ],
 "metadata": {
  "kernelspec": {
   "display_name": "result",
   "language": "python",
   "name": "python3"
  },
  "language_info": {
   "codemirror_mode": {
    "name": "ipython",
    "version": 3
   },
   "file_extension": ".py",
   "mimetype": "text/x-python",
   "name": "python",
   "nbconvert_exporter": "python",
   "pygments_lexer": "ipython3",
   "version": "3.9.16 (main, Jan 11 2023, 16:05:54) \n[GCC 11.2.0]"
  },
  "orig_nbformat": 4,
  "vscode": {
   "interpreter": {
    "hash": "b6cd1d8fde81e82ee0bb98e61354bbb476ce8357296d0ca5bf6d59e75067f659"
   }
  }
 },
 "nbformat": 4,
 "nbformat_minor": 2
}
